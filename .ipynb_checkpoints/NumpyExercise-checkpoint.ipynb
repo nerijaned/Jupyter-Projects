{
 "cells": [
  {
   "cell_type": "code",
   "execution_count": 8,
   "id": "f8c02df6-7a96-4329-9023-73b51d89d331",
   "metadata": {},
   "outputs": [
    {
     "data": {
      "text/plain": [
       "array([[[1, 2, 3],\n",
       "        [4, 5, 6],\n",
       "        [7, 8, 9]],\n",
       "\n",
       "       [[1, 2, 3],\n",
       "        [4, 5, 6],\n",
       "        [7, 8, 9]]])"
      ]
     },
     "execution_count": 8,
     "metadata": {},
     "output_type": "execute_result"
    }
   ],
   "source": [
    "import numpy as np\n",
    "\n",
    "#create a 1D array\n",
    "aq = np.array([1,2,3])\n",
    "\n",
    "#create a 2D array\n",
    "a2 = np.array([[1,2,3],[4,5,6]])\n",
    "\n",
    "#create a 3D array\n",
    "a3 = np.array([\n",
    "                [\n",
    "                    [1,2,3],[4,5,6],[7,8,9]\n",
    "                ],\n",
    "                [\n",
    "                    [1,2,3],[4,5,6],[7,8,9]\n",
    "                ]\n",
    "              ])\n",
    "\n",
    "a3"
   ]
  },
  {
   "cell_type": "code",
   "execution_count": 10,
   "id": "d1c69ea5-9cc5-4c4f-962a-a65aac749992",
   "metadata": {},
   "outputs": [
    {
     "data": {
      "text/plain": [
       "array([[0., 0.],\n",
       "       [0., 0.],\n",
       "       [0., 0.],\n",
       "       [0., 0.],\n",
       "       [0., 0.],\n",
       "       [0., 0.],\n",
       "       [0., 0.],\n",
       "       [0., 0.],\n",
       "       [0., 0.],\n",
       "       [0., 0.]])"
      ]
     },
     "execution_count": 10,
     "metadata": {},
     "output_type": "execute_result"
    }
   ],
   "source": [
    "#create an array of only ones\n",
    "\n",
    "ones = np.ones((10,2))\n",
    "ones\n",
    "\n",
    "zeros = np.zeros((10,2))\n",
    "zeros"
   ]
  },
  {
   "cell_type": "code",
   "execution_count": 11,
   "id": "95599dec-0373-439e-9326-fcfee8cbb809",
   "metadata": {},
   "outputs": [
    {
     "data": {
      "text/plain": [
       "array([ 0,  3,  6,  9, 12, 15, 18, 21, 24, 27, 30, 33, 36, 39, 42, 45, 48,\n",
       "       51, 54, 57, 60, 63, 66, 69, 72, 75, 78, 81, 84, 87, 90, 93, 96, 99])"
      ]
     },
     "execution_count": 11,
     "metadata": {},
     "output_type": "execute_result"
    }
   ],
   "source": [
    "#create an array within a range of 0 to 100 with step 3\n",
    "\n",
    "arange_array = np.arange(0, 100, 3)\n",
    "arange_array"
   ]
  },
  {
   "cell_type": "code",
   "execution_count": 19,
   "id": "2a3a15df-7989-4133-8013-d5cb5ba5de7c",
   "metadata": {},
   "outputs": [
    {
     "name": "stdout",
     "output_type": "stream",
     "text": [
      "(4, 6)\n",
      "24\n"
     ]
    },
    {
     "data": {
      "text/plain": [
       "array([[4900, 8281,   49, 1369, 3136, 2500],\n",
       "       [4225,  144, 5041,  361,  961, 5476],\n",
       "       [3025, 6889, 3481, 8281, 5329, 9216],\n",
       "       [2401, 2809, 5329,   64, 2704,  900]])"
      ]
     },
     "execution_count": 19,
     "metadata": {},
     "output_type": "execute_result"
    }
   ],
   "source": [
    "#create a random array of numbers between 0 & 10 of size (4,6)\n",
    "\n",
    "np.random.seed(40)\n",
    "\n",
    "a4 = np.random.randint(100,size=(4,6))\n",
    "\n",
    "print(a4.shape)\n",
    "print(a4.size)\n",
    "\n",
    "#reshape the array\n",
    "a4.reshape(3,8)\n",
    "\n",
    "np.square(a4)"
   ]
  },
  {
   "cell_type": "code",
   "execution_count": 30,
   "id": "8f35add1-08af-4b9c-89cf-1361662688ba",
   "metadata": {},
   "outputs": [
    {
     "name": "stdout",
     "output_type": "stream",
     "text": [
      "[[1]]\n",
      "[[4]]\n"
     ]
    },
    {
     "data": {
      "text/plain": [
       "array([[4]])"
      ]
     },
     "execution_count": 30,
     "metadata": {},
     "output_type": "execute_result"
    }
   ],
   "source": [
    "#perform a dot product calculation on two groups\n",
    "\n",
    "a1 = np.random.randint(10, size=(1,1))\n",
    "a2 = np.random.randint(10, size=(1,1))\n",
    "\n",
    "print(a1)\n",
    "print(a2)\n",
    "np.dot(a1, a2)"
   ]
  }
 ],
 "metadata": {
  "kernelspec": {
   "display_name": "Python 3 (ipykernel)",
   "language": "python",
   "name": "python3"
  },
  "language_info": {
   "codemirror_mode": {
    "name": "ipython",
    "version": 3
   },
   "file_extension": ".py",
   "mimetype": "text/x-python",
   "name": "python",
   "nbconvert_exporter": "python",
   "pygments_lexer": "ipython3",
   "version": "3.11.7"
  }
 },
 "nbformat": 4,
 "nbformat_minor": 5
}
