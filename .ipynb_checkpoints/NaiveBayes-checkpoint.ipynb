{
 "cells": [
  {
   "cell_type": "code",
   "execution_count": 4,
   "id": "e19a2252-4a9a-4e12-9b63-0a4465c8f2c3",
   "metadata": {},
   "outputs": [
    {
     "name": "stdout",
     "output_type": "stream",
     "text": [
      "The email is classified as Not Spam\n"
     ]
    }
   ],
   "source": [
    "from sklearn.feature_extraction.text import CountVectorizer\n",
    "from sklearn.model_selection import train_test_split\n",
    "from sklearn.naive_bayes import MultinomialNB\n",
    "from sklearn.metrics import accuracy_score, classification_report\n",
    "\n",
    "#saample email data\n",
    "\n",
    "emails = [\"Hello, this is a legitimate email!\",\n",
    "         \"Congratulations! You won a million dollars!\",\n",
    "         \"Meet singles in your area now!\",\n",
    "         \"Important meeting tomorrow at 10am\"]\n",
    "\n",
    "labels = [0, 1, 1, 0] #0 is not spam, whereas 1 is spam\n",
    "\n",
    "#convert text data to feature vectors using Bag-of-words\n",
    "vectorizer = CountVectorizer()\n",
    "X = vectorizer.fit_transform(emails)\n",
    "\n",
    "#split the data into training and test sets\n",
    "X_train, X_test, y_train, y_test = train_test_split(X, labels, test_size=0.25, random_state=42)\n",
    "\n",
    "#Create a naive bayes classifier\n",
    "nb_classifier = MultinomialNB()\n",
    "nb_classifier.fit(X_train, y_train)\n",
    "\n",
    "#test with a new email\n",
    "new_email = [\"Get to work. You are late\"]\n",
    "new_email_vectorized = vectorizer.transform(new_email)\n",
    "\n",
    "#make prediction on the new email\n",
    "prediction = nb_classifier.predict(new_email_vectorized)\n",
    "\n",
    "#interpret the prediction as a String\n",
    "if prediction[0] == 1:\n",
    "    result = \"Spam\"\n",
    "else:\n",
    "    result = \"Not Spam\"\n",
    "\n",
    "print(f\"The email is classified as {result}\")"
   ]
  }
 ],
 "metadata": {
  "kernelspec": {
   "display_name": "Python 3 (ipykernel)",
   "language": "python",
   "name": "python3"
  },
  "language_info": {
   "codemirror_mode": {
    "name": "ipython",
    "version": 3
   },
   "file_extension": ".py",
   "mimetype": "text/x-python",
   "name": "python",
   "nbconvert_exporter": "python",
   "pygments_lexer": "ipython3",
   "version": "3.11.7"
  }
 },
 "nbformat": 4,
 "nbformat_minor": 5
}
