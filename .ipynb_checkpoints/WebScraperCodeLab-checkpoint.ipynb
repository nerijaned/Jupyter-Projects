{
 "cells": [
  {
   "cell_type": "code",
   "execution_count": 1,
   "id": "dfdbe6d4-b5a0-48a5-8447-ef04c5c1ffdb",
   "metadata": {},
   "outputs": [
    {
     "name": "stdout",
     "output_type": "stream",
     "text": [
      "Defaulting to user installation because normal site-packages is not writeable\n",
      "Requirement already satisfied: bs4 in c:\\users\\neri\\appdata\\roaming\\python\\python311\\site-packages (0.0.2)\n",
      "Requirement already satisfied: beautifulsoup4 in c:\\programdata\\anaconda3\\lib\\site-packages (from bs4) (4.12.2)\n",
      "Requirement already satisfied: soupsieve>1.2 in c:\\programdata\\anaconda3\\lib\\site-packages (from beautifulsoup4->bs4) (2.5)\n",
      "Note: you may need to restart the kernel to use updated packages.\n"
     ]
    }
   ],
   "source": [
    "pip install bs4"
   ]
  },
  {
   "cell_type": "code",
   "execution_count": 4,
   "id": "b24da27c-58b8-446d-8b36-c1c66a105c86",
   "metadata": {},
   "outputs": [
    {
     "name": "stdout",
     "output_type": "stream",
     "text": [
      "<table class=\"pub-table simpleTable dataTable\" id=\"simpleTable\">\n",
      "<thead class=\"simpleTableHeader\" id=\"simpleTableHeader\"></thead>\n",
      "<tbody class=\"simpleTableBody\" id=\"simpleTableBody\"></tbody>\n",
      "</table>\n"
     ]
    }
   ],
   "source": [
    "from bs4 import BeautifulSoup\n",
    "import requests\n",
    "\n",
    "#fetch the webpage content\n",
    "url = \"https://www150.statcan.gc.ca/t1/tbl1/en/tv.action?pid=1810000401\"\n",
    "response = requests.get(url)\n",
    "html_content = response.content\n",
    "\n",
    "#parsing HTML content with Beautiful Soup\n",
    "soup = BeautifulSoup(html_content, \"html.parser\")\n",
    "\n",
    "#extracting specific elements\n",
    "table = soup.find(id=\"simpleTable\")\n",
    "\n",
    "print(table)"
   ]
  },
  {
   "cell_type": "code",
   "execution_count": null,
   "id": "1762907c-7eab-4565-80fb-33fbf247fe50",
   "metadata": {},
   "outputs": [],
   "source": []
  }
 ],
 "metadata": {
  "kernelspec": {
   "display_name": "Python 3 (ipykernel)",
   "language": "python",
   "name": "python3"
  },
  "language_info": {
   "codemirror_mode": {
    "name": "ipython",
    "version": 3
   },
   "file_extension": ".py",
   "mimetype": "text/x-python",
   "name": "python",
   "nbconvert_exporter": "python",
   "pygments_lexer": "ipython3",
   "version": "3.11.7"
  }
 },
 "nbformat": 4,
 "nbformat_minor": 5
}
