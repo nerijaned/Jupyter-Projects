{
 "cells": [
  {
   "cell_type": "code",
   "execution_count": 2,
   "id": "967e8613-00df-4975-b82a-8bdf41cc2ec9",
   "metadata": {},
   "outputs": [
    {
     "data": {
      "text/plain": [
       "0     Blue\n",
       "1      Red\n",
       "2    White\n",
       "dtype: object"
      ]
     },
     "execution_count": 2,
     "metadata": {},
     "output_type": "execute_result"
    }
   ],
   "source": [
    "import pandas as pd\n",
    "\n",
    "#create a series of three different colours\n",
    "colours = pd.Series([\"Blue\", \"Red\", \"White\"])\n",
    "\n",
    "colours"
   ]
  },
  {
   "cell_type": "code",
   "execution_count": 3,
   "id": "0f348c18-8063-4e39-9393-b818aea312a0",
   "metadata": {},
   "outputs": [
    {
     "data": {
      "text/plain": [
       "0       BMW\n",
       "1    Toyota\n",
       "2     Honda\n",
       "dtype: object"
      ]
     },
     "execution_count": 3,
     "metadata": {},
     "output_type": "execute_result"
    }
   ],
   "source": [
    "#create a series of 3 different car types\n",
    "cars = pd.Series([\"BMW\",\"Toyota\",\"Honda\"])\n",
    "\n",
    "cars"
   ]
  },
  {
   "cell_type": "code",
   "execution_count": 4,
   "id": "8c658d77-ff7a-4f19-9cc6-940b6d750a39",
   "metadata": {},
   "outputs": [
    {
     "data": {
      "text/html": [
       "<div>\n",
       "<style scoped>\n",
       "    .dataframe tbody tr th:only-of-type {\n",
       "        vertical-align: middle;\n",
       "    }\n",
       "\n",
       "    .dataframe tbody tr th {\n",
       "        vertical-align: top;\n",
       "    }\n",
       "\n",
       "    .dataframe thead th {\n",
       "        text-align: right;\n",
       "    }\n",
       "</style>\n",
       "<table border=\"1\" class=\"dataframe\">\n",
       "  <thead>\n",
       "    <tr style=\"text-align: right;\">\n",
       "      <th></th>\n",
       "      <th>Car Make</th>\n",
       "      <th>Colour</th>\n",
       "    </tr>\n",
       "  </thead>\n",
       "  <tbody>\n",
       "    <tr>\n",
       "      <th>0</th>\n",
       "      <td>BMW</td>\n",
       "      <td>Blue</td>\n",
       "    </tr>\n",
       "    <tr>\n",
       "      <th>1</th>\n",
       "      <td>Toyota</td>\n",
       "      <td>Red</td>\n",
       "    </tr>\n",
       "    <tr>\n",
       "      <th>2</th>\n",
       "      <td>Honda</td>\n",
       "      <td>White</td>\n",
       "    </tr>\n",
       "  </tbody>\n",
       "</table>\n",
       "</div>"
      ],
      "text/plain": [
       "  Car Make Colour\n",
       "0      BMW   Blue\n",
       "1   Toyota    Red\n",
       "2    Honda  White"
      ]
     },
     "execution_count": 4,
     "metadata": {},
     "output_type": "execute_result"
    }
   ],
   "source": [
    "#combines the series of cars and colours into DataFrame\n",
    "\n",
    "car_data = pd.DataFrame({\n",
    "    \"Car Make\": cars,\n",
    "    \"Colour\": colours\n",
    "})\n",
    "\n",
    "car_data"
   ]
  },
  {
   "cell_type": "code",
   "execution_count": 5,
   "id": "5281c651-b957-46ad-a00e-415427bfe19d",
   "metadata": {},
   "outputs": [
    {
     "data": {
      "text/html": [
       "<div>\n",
       "<style scoped>\n",
       "    .dataframe tbody tr th:only-of-type {\n",
       "        vertical-align: middle;\n",
       "    }\n",
       "\n",
       "    .dataframe tbody tr th {\n",
       "        vertical-align: top;\n",
       "    }\n",
       "\n",
       "    .dataframe thead th {\n",
       "        text-align: right;\n",
       "    }\n",
       "</style>\n",
       "<table border=\"1\" class=\"dataframe\">\n",
       "  <thead>\n",
       "    <tr style=\"text-align: right;\">\n",
       "      <th></th>\n",
       "      <th>Make</th>\n",
       "      <th>Colour</th>\n",
       "      <th>Odometer (KM)</th>\n",
       "      <th>Doors</th>\n",
       "      <th>Price</th>\n",
       "    </tr>\n",
       "  </thead>\n",
       "  <tbody>\n",
       "    <tr>\n",
       "      <th>0</th>\n",
       "      <td>Toyota</td>\n",
       "      <td>White</td>\n",
       "      <td>150043</td>\n",
       "      <td>4</td>\n",
       "      <td>$4,000.00</td>\n",
       "    </tr>\n",
       "    <tr>\n",
       "      <th>1</th>\n",
       "      <td>Honda</td>\n",
       "      <td>Red</td>\n",
       "      <td>87899</td>\n",
       "      <td>4</td>\n",
       "      <td>$5,000.00</td>\n",
       "    </tr>\n",
       "    <tr>\n",
       "      <th>2</th>\n",
       "      <td>Toyota</td>\n",
       "      <td>Blue</td>\n",
       "      <td>32549</td>\n",
       "      <td>3</td>\n",
       "      <td>$7,000.00</td>\n",
       "    </tr>\n",
       "    <tr>\n",
       "      <th>3</th>\n",
       "      <td>BMW</td>\n",
       "      <td>Black</td>\n",
       "      <td>11179</td>\n",
       "      <td>5</td>\n",
       "      <td>$22,000.00</td>\n",
       "    </tr>\n",
       "    <tr>\n",
       "      <th>4</th>\n",
       "      <td>Nissan</td>\n",
       "      <td>White</td>\n",
       "      <td>213095</td>\n",
       "      <td>4</td>\n",
       "      <td>$3,500.00</td>\n",
       "    </tr>\n",
       "    <tr>\n",
       "      <th>5</th>\n",
       "      <td>Toyota</td>\n",
       "      <td>Green</td>\n",
       "      <td>99213</td>\n",
       "      <td>4</td>\n",
       "      <td>$4,500.00</td>\n",
       "    </tr>\n",
       "    <tr>\n",
       "      <th>6</th>\n",
       "      <td>Honda</td>\n",
       "      <td>Blue</td>\n",
       "      <td>45698</td>\n",
       "      <td>4</td>\n",
       "      <td>$7,500.00</td>\n",
       "    </tr>\n",
       "    <tr>\n",
       "      <th>7</th>\n",
       "      <td>Honda</td>\n",
       "      <td>Blue</td>\n",
       "      <td>54738</td>\n",
       "      <td>4</td>\n",
       "      <td>$7,000.00</td>\n",
       "    </tr>\n",
       "    <tr>\n",
       "      <th>8</th>\n",
       "      <td>Toyota</td>\n",
       "      <td>White</td>\n",
       "      <td>60000</td>\n",
       "      <td>4</td>\n",
       "      <td>$6,250.00</td>\n",
       "    </tr>\n",
       "    <tr>\n",
       "      <th>9</th>\n",
       "      <td>Nissan</td>\n",
       "      <td>White</td>\n",
       "      <td>31600</td>\n",
       "      <td>4</td>\n",
       "      <td>$9,700.00</td>\n",
       "    </tr>\n",
       "  </tbody>\n",
       "</table>\n",
       "</div>"
      ],
      "text/plain": [
       "     Make Colour  Odometer (KM)  Doors       Price\n",
       "0  Toyota  White         150043      4   $4,000.00\n",
       "1   Honda    Red          87899      4   $5,000.00\n",
       "2  Toyota   Blue          32549      3   $7,000.00\n",
       "3     BMW  Black          11179      5  $22,000.00\n",
       "4  Nissan  White         213095      4   $3,500.00\n",
       "5  Toyota  Green          99213      4   $4,500.00\n",
       "6   Honda   Blue          45698      4   $7,500.00\n",
       "7   Honda   Blue          54738      4   $7,000.00\n",
       "8  Toyota  White          60000      4   $6,250.00\n",
       "9  Nissan  White          31600      4   $9,700.00"
      ]
     },
     "execution_count": 5,
     "metadata": {},
     "output_type": "execute_result"
    }
   ],
   "source": [
    "#import data and turn to a dataframe\n",
    "car_sales = pd.read_csv(\"car-sales.csv\")\n",
    "\n",
    "car_sales"
   ]
  },
  {
   "cell_type": "code",
   "execution_count": 6,
   "id": "882cfb65-557a-4c84-9621-19621cdc4366",
   "metadata": {},
   "outputs": [
    {
     "data": {
      "text/html": [
       "<div>\n",
       "<style scoped>\n",
       "    .dataframe tbody tr th:only-of-type {\n",
       "        vertical-align: middle;\n",
       "    }\n",
       "\n",
       "    .dataframe tbody tr th {\n",
       "        vertical-align: top;\n",
       "    }\n",
       "\n",
       "    .dataframe thead th {\n",
       "        text-align: right;\n",
       "    }\n",
       "</style>\n",
       "<table border=\"1\" class=\"dataframe\">\n",
       "  <thead>\n",
       "    <tr style=\"text-align: right;\">\n",
       "      <th></th>\n",
       "      <th>Odometer (KM)</th>\n",
       "      <th>Doors</th>\n",
       "    </tr>\n",
       "  </thead>\n",
       "  <tbody>\n",
       "    <tr>\n",
       "      <th>count</th>\n",
       "      <td>10.000000</td>\n",
       "      <td>10.000000</td>\n",
       "    </tr>\n",
       "    <tr>\n",
       "      <th>mean</th>\n",
       "      <td>78601.400000</td>\n",
       "      <td>4.000000</td>\n",
       "    </tr>\n",
       "    <tr>\n",
       "      <th>std</th>\n",
       "      <td>61983.471735</td>\n",
       "      <td>0.471405</td>\n",
       "    </tr>\n",
       "    <tr>\n",
       "      <th>min</th>\n",
       "      <td>11179.000000</td>\n",
       "      <td>3.000000</td>\n",
       "    </tr>\n",
       "    <tr>\n",
       "      <th>25%</th>\n",
       "      <td>35836.250000</td>\n",
       "      <td>4.000000</td>\n",
       "    </tr>\n",
       "    <tr>\n",
       "      <th>50%</th>\n",
       "      <td>57369.000000</td>\n",
       "      <td>4.000000</td>\n",
       "    </tr>\n",
       "    <tr>\n",
       "      <th>75%</th>\n",
       "      <td>96384.500000</td>\n",
       "      <td>4.000000</td>\n",
       "    </tr>\n",
       "    <tr>\n",
       "      <th>max</th>\n",
       "      <td>213095.000000</td>\n",
       "      <td>5.000000</td>\n",
       "    </tr>\n",
       "  </tbody>\n",
       "</table>\n",
       "</div>"
      ],
      "text/plain": [
       "       Odometer (KM)      Doors\n",
       "count      10.000000  10.000000\n",
       "mean    78601.400000   4.000000\n",
       "std     61983.471735   0.471405\n",
       "min     11179.000000   3.000000\n",
       "25%     35836.250000   4.000000\n",
       "50%     57369.000000   4.000000\n",
       "75%     96384.500000   4.000000\n",
       "max    213095.000000   5.000000"
      ]
     },
     "execution_count": 6,
     "metadata": {},
     "output_type": "execute_result"
    }
   ],
   "source": [
    "car_sales.describe()"
   ]
  },
  {
   "cell_type": "code",
   "execution_count": 7,
   "id": "bb4b02ef-a955-472b-aec5-55275b06f902",
   "metadata": {},
   "outputs": [
    {
     "data": {
      "text/plain": [
       "Make             object\n",
       "Colour           object\n",
       "Odometer (KM)     int64\n",
       "Doors             int64\n",
       "Price            object\n",
       "dtype: object"
      ]
     },
     "execution_count": 7,
     "metadata": {},
     "output_type": "execute_result"
    }
   ],
   "source": [
    "car_sales.dtypes"
   ]
  },
  {
   "cell_type": "code",
   "execution_count": 8,
   "id": "8a1063b3-c5f2-4501-8e82-f093f36595dd",
   "metadata": {},
   "outputs": [
    {
     "name": "stdout",
     "output_type": "stream",
     "text": [
      "<class 'pandas.core.frame.DataFrame'>\n",
      "RangeIndex: 10 entries, 0 to 9\n",
      "Data columns (total 5 columns):\n",
      " #   Column         Non-Null Count  Dtype \n",
      "---  ------         --------------  ----- \n",
      " 0   Make           10 non-null     object\n",
      " 1   Colour         10 non-null     object\n",
      " 2   Odometer (KM)  10 non-null     int64 \n",
      " 3   Doors          10 non-null     int64 \n",
      " 4   Price          10 non-null     object\n",
      "dtypes: int64(2), object(3)\n",
      "memory usage: 532.0+ bytes\n"
     ]
    }
   ],
   "source": [
    "#grabbing information about the data frame using info()\n",
    "\n",
    "car_sales.info()"
   ]
  },
  {
   "cell_type": "code",
   "execution_count": 12,
   "id": "7df7a666-e575-46f7-ba9e-8adb3b4e5059",
   "metadata": {},
   "outputs": [
    {
     "name": "stdout",
     "output_type": "stream",
     "text": [
      "53.46063444787251\n"
     ]
    },
    {
     "data": {
      "text/plain": [
       "267.30317223936254"
      ]
     },
     "execution_count": 12,
     "metadata": {},
     "output_type": "execute_result"
    }
   ],
   "source": [
    "#create a series of different numbers and find the mean of them\n",
    "\n",
    "import numpy as np\n",
    "\n",
    "np.random.seed(10)\n",
    "\n",
    "numbers_array = np.random.rand(5)\n",
    "\n",
    "numbers = numbers_array * 100\n",
    "\n",
    "print(numbers.mean())\n",
    "\n",
    "numbers.sum()"
   ]
  },
  {
   "cell_type": "code",
   "execution_count": 17,
   "id": "7a69d98b-4172-478b-8bd8-93dd58bcf45a",
   "metadata": {},
   "outputs": [
    {
     "name": "stdout",
     "output_type": "stream",
     "text": [
      "Index(['Make', 'Colour', 'Odometer (KM)', 'Doors', 'Price'], dtype='object')\n"
     ]
    },
    {
     "data": {
      "text/html": [
       "<div>\n",
       "<style scoped>\n",
       "    .dataframe tbody tr th:only-of-type {\n",
       "        vertical-align: middle;\n",
       "    }\n",
       "\n",
       "    .dataframe tbody tr th {\n",
       "        vertical-align: top;\n",
       "    }\n",
       "\n",
       "    .dataframe thead th {\n",
       "        text-align: right;\n",
       "    }\n",
       "</style>\n",
       "<table border=\"1\" class=\"dataframe\">\n",
       "  <thead>\n",
       "    <tr style=\"text-align: right;\">\n",
       "      <th></th>\n",
       "      <th>Make</th>\n",
       "      <th>Colour</th>\n",
       "      <th>Odometer (KM)</th>\n",
       "      <th>Doors</th>\n",
       "      <th>Price</th>\n",
       "    </tr>\n",
       "  </thead>\n",
       "  <tbody>\n",
       "    <tr>\n",
       "      <th>5</th>\n",
       "      <td>Toyota</td>\n",
       "      <td>Green</td>\n",
       "      <td>99213</td>\n",
       "      <td>4</td>\n",
       "      <td>$4,500.00</td>\n",
       "    </tr>\n",
       "    <tr>\n",
       "      <th>6</th>\n",
       "      <td>Honda</td>\n",
       "      <td>Blue</td>\n",
       "      <td>45698</td>\n",
       "      <td>4</td>\n",
       "      <td>$7,500.00</td>\n",
       "    </tr>\n",
       "    <tr>\n",
       "      <th>7</th>\n",
       "      <td>Honda</td>\n",
       "      <td>Blue</td>\n",
       "      <td>54738</td>\n",
       "      <td>4</td>\n",
       "      <td>$7,000.00</td>\n",
       "    </tr>\n",
       "    <tr>\n",
       "      <th>8</th>\n",
       "      <td>Toyota</td>\n",
       "      <td>White</td>\n",
       "      <td>60000</td>\n",
       "      <td>4</td>\n",
       "      <td>$6,250.00</td>\n",
       "    </tr>\n",
       "    <tr>\n",
       "      <th>9</th>\n",
       "      <td>Nissan</td>\n",
       "      <td>White</td>\n",
       "      <td>31600</td>\n",
       "      <td>4</td>\n",
       "      <td>$9,700.00</td>\n",
       "    </tr>\n",
       "  </tbody>\n",
       "</table>\n",
       "</div>"
      ],
      "text/plain": [
       "     Make Colour  Odometer (KM)  Doors      Price\n",
       "5  Toyota  Green          99213      4  $4,500.00\n",
       "6   Honda   Blue          45698      4  $7,500.00\n",
       "7   Honda   Blue          54738      4  $7,000.00\n",
       "8  Toyota  White          60000      4  $6,250.00\n",
       "9  Nissan  White          31600      4  $9,700.00"
      ]
     },
     "execution_count": 17,
     "metadata": {},
     "output_type": "execute_result"
    }
   ],
   "source": [
    "print(car_sales.columns)\n",
    "car_sales.tail()"
   ]
  },
  {
   "cell_type": "code",
   "execution_count": 18,
   "id": "8ba429ea-330a-4cf8-bbf5-b387484da3fc",
   "metadata": {},
   "outputs": [
    {
     "data": {
      "text/html": [
       "<div>\n",
       "<style scoped>\n",
       "    .dataframe tbody tr th:only-of-type {\n",
       "        vertical-align: middle;\n",
       "    }\n",
       "\n",
       "    .dataframe tbody tr th {\n",
       "        vertical-align: top;\n",
       "    }\n",
       "\n",
       "    .dataframe thead th {\n",
       "        text-align: right;\n",
       "    }\n",
       "</style>\n",
       "<table border=\"1\" class=\"dataframe\">\n",
       "  <thead>\n",
       "    <tr style=\"text-align: right;\">\n",
       "      <th></th>\n",
       "      <th>Make</th>\n",
       "      <th>Colour</th>\n",
       "      <th>Odometer (KM)</th>\n",
       "      <th>Doors</th>\n",
       "      <th>Price</th>\n",
       "    </tr>\n",
       "  </thead>\n",
       "  <tbody>\n",
       "    <tr>\n",
       "      <th>2</th>\n",
       "      <td>Toyota</td>\n",
       "      <td>Blue</td>\n",
       "      <td>32549</td>\n",
       "      <td>3</td>\n",
       "      <td>$7,000.00</td>\n",
       "    </tr>\n",
       "    <tr>\n",
       "      <th>7</th>\n",
       "      <td>Honda</td>\n",
       "      <td>Blue</td>\n",
       "      <td>54738</td>\n",
       "      <td>4</td>\n",
       "      <td>$7,000.00</td>\n",
       "    </tr>\n",
       "  </tbody>\n",
       "</table>\n",
       "</div>"
      ],
      "text/plain": [
       "     Make Colour  Odometer (KM)  Doors      Price\n",
       "2  Toyota   Blue          32549      3  $7,000.00\n",
       "7   Honda   Blue          54738      4  $7,000.00"
      ]
     },
     "execution_count": 18,
     "metadata": {},
     "output_type": "execute_result"
    }
   ],
   "source": [
    "car_sales.loc[car_sales['Price'] == '$7,000.00']"
   ]
  },
  {
   "cell_type": "code",
   "execution_count": 19,
   "id": "f7484906-e9a2-444f-adf4-10f19ff589bf",
   "metadata": {},
   "outputs": [
    {
     "data": {
      "text/plain": [
       "Make                Toyota\n",
       "Colour               Green\n",
       "Odometer (KM)        99213\n",
       "Doors                    4\n",
       "Price            $4,500.00\n",
       "Name: 5, dtype: object"
      ]
     },
     "execution_count": 19,
     "metadata": {},
     "output_type": "execute_result"
    }
   ],
   "source": [
    "car_sales.iloc[5]"
   ]
  },
  {
   "cell_type": "code",
   "execution_count": 23,
   "id": "eca1e037-bfb9-4374-9cba-adb5cdf97a7c",
   "metadata": {},
   "outputs": [
    {
     "data": {
      "text/html": [
       "<div>\n",
       "<style scoped>\n",
       "    .dataframe tbody tr th:only-of-type {\n",
       "        vertical-align: middle;\n",
       "    }\n",
       "\n",
       "    .dataframe tbody tr th {\n",
       "        vertical-align: top;\n",
       "    }\n",
       "\n",
       "    .dataframe thead th {\n",
       "        text-align: right;\n",
       "    }\n",
       "</style>\n",
       "<table border=\"1\" class=\"dataframe\">\n",
       "  <thead>\n",
       "    <tr style=\"text-align: right;\">\n",
       "      <th></th>\n",
       "      <th>Make</th>\n",
       "      <th>Colour</th>\n",
       "      <th>Odometer (KM)</th>\n",
       "      <th>Doors</th>\n",
       "      <th>Price</th>\n",
       "    </tr>\n",
       "  </thead>\n",
       "  <tbody>\n",
       "    <tr>\n",
       "      <th>0</th>\n",
       "      <td>Toyota</td>\n",
       "      <td>White</td>\n",
       "      <td>150043</td>\n",
       "      <td>4</td>\n",
       "      <td>$4,000.00</td>\n",
       "    </tr>\n",
       "    <tr>\n",
       "      <th>4</th>\n",
       "      <td>Nissan</td>\n",
       "      <td>White</td>\n",
       "      <td>213095</td>\n",
       "      <td>4</td>\n",
       "      <td>$3,500.00</td>\n",
       "    </tr>\n",
       "  </tbody>\n",
       "</table>\n",
       "</div>"
      ],
      "text/plain": [
       "     Make Colour  Odometer (KM)  Doors      Price\n",
       "0  Toyota  White         150043      4  $4,000.00\n",
       "4  Nissan  White         213095      4  $3,500.00"
      ]
     },
     "execution_count": 23,
     "metadata": {},
     "output_type": "execute_result"
    }
   ],
   "source": [
    "car_sales[car_sales['Odometer (KM)'] > 100000]"
   ]
  },
  {
   "cell_type": "code",
   "execution_count": 24,
   "id": "28892470-b00f-4288-a0de-cf0f1fb8a32b",
   "metadata": {},
   "outputs": [
    {
     "data": {
      "text/html": [
       "<div>\n",
       "<style scoped>\n",
       "    .dataframe tbody tr th:only-of-type {\n",
       "        vertical-align: middle;\n",
       "    }\n",
       "\n",
       "    .dataframe tbody tr th {\n",
       "        vertical-align: top;\n",
       "    }\n",
       "\n",
       "    .dataframe thead th {\n",
       "        text-align: right;\n",
       "    }\n",
       "</style>\n",
       "<table border=\"1\" class=\"dataframe\">\n",
       "  <thead>\n",
       "    <tr style=\"text-align: right;\">\n",
       "      <th></th>\n",
       "      <th>Odometer (KM)</th>\n",
       "      <th>Doors</th>\n",
       "    </tr>\n",
       "    <tr>\n",
       "      <th>Make</th>\n",
       "      <th></th>\n",
       "      <th></th>\n",
       "    </tr>\n",
       "  </thead>\n",
       "  <tbody>\n",
       "    <tr>\n",
       "      <th>BMW</th>\n",
       "      <td>11179.000000</td>\n",
       "      <td>5.00</td>\n",
       "    </tr>\n",
       "    <tr>\n",
       "      <th>Honda</th>\n",
       "      <td>62778.333333</td>\n",
       "      <td>4.00</td>\n",
       "    </tr>\n",
       "    <tr>\n",
       "      <th>Nissan</th>\n",
       "      <td>122347.500000</td>\n",
       "      <td>4.00</td>\n",
       "    </tr>\n",
       "    <tr>\n",
       "      <th>Toyota</th>\n",
       "      <td>85451.250000</td>\n",
       "      <td>3.75</td>\n",
       "    </tr>\n",
       "  </tbody>\n",
       "</table>\n",
       "</div>"
      ],
      "text/plain": [
       "        Odometer (KM)  Doors\n",
       "Make                        \n",
       "BMW      11179.000000   5.00\n",
       "Honda    62778.333333   4.00\n",
       "Nissan  122347.500000   4.00\n",
       "Toyota   85451.250000   3.75"
      ]
     },
     "execution_count": 24,
     "metadata": {},
     "output_type": "execute_result"
    }
   ],
   "source": [
    "#group columns of the car sales dataframe by the Make column and find the average\n",
    "\n",
    "car_sales.groupby([\"Make\"]).mean(numeric_only=True)"
   ]
  },
  {
   "cell_type": "code",
   "execution_count": 36,
   "id": "d292d26e-9b90-4c15-9d49-af78a9f810c9",
   "metadata": {},
   "outputs": [
    {
     "data": {
      "image/png": "[encoded data removed]",
      "text/plain": [
       "<Figure size 640x480 with 1 Axes>"
      ]
     },
     "metadata": {},
     "output_type": "display_data"
    }
   ],
   "source": [
    "import matplotlib.pyplot as plt\n",
    "\n",
    "y = car_sales[\"Odometer (KM)\"]\n",
    "x = car_sales[\"Price\"]\n",
    "\n",
    "car_sales[\"Price\"] = car_sales[\"Price\"].str.removeprefix(\"$\").str.removesuffix(\".00\").str.replace(\",\",\"\")\n",
    "car_price = car_sales[\"Price\"].astype(int)\n",
    "car_prices_sorted = car_price.sort_values()\n",
    "\n",
    "plt.plot(car_prices_sorted,y,marker=\"o\")\n",
    "\n",
    "plt.xlabel(\"Price\")\n",
    "plt.ylabel(\"Odometer (KM)\")\n",
    "plt.xticks(rotation=\"vertical\")\n",
    "plt.title(\"Odometer vs Price\")\n",
    "plt.show()"
   ]
  },
  {
   "cell_type": "code",
   "execution_count": 34,
   "id": "5fa04a28-1121-482a-9c33-9c765569c4c2",
   "metadata": {},
   "outputs": [
    {
     "data": {
      "text/plain": [
       "4     3500\n",
       "0     4000\n",
       "5     4500\n",
       "1     5000\n",
       "8     6250\n",
       "2     7000\n",
       "7     7000\n",
       "6     7500\n",
       "9     9700\n",
       "3    22000\n",
       "Name: Price, dtype: int32"
      ]
     },
     "execution_count": 34,
     "metadata": {},
     "output_type": "execute_result"
    }
   ],
   "source": [
    "#remove the punctuation from the price column\n",
    "car_sales[\"Price\"] = car_sales[\"Price\"].str.removeprefix(\"$\").str.removesuffix(\".00\").str.replace(\",\",\"\")\n",
    "car_price = car_sales[\"Price\"].astype(int)\n",
    "\n",
    "car_prices_sorted = car_price.sort_values()\n",
    "\n",
    "car_prices_sorted"
   ]
  }
 ],
 "metadata": {
  "kernelspec": {
   "display_name": "Python 3 (ipykernel)",
   "language": "python",
   "name": "python3"
  },
  "language_info": {
   "codemirror_mode": {
    "name": "ipython",
    "version": 3
   },
   "file_extension": ".py",
   "mimetype": "text/x-python",
   "name": "python",
   "nbconvert_exporter": "python",
   "pygments_lexer": "ipython3",
   "version": "3.11.7"
  }
 },
 "nbformat": 4,
 "nbformat_minor": 5
}
