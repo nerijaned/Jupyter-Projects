{
 "cells": [
  {
   "cell_type": "code",
   "execution_count": 8,
   "id": "17bb6832-6037-4410-b767-8b41fb18b697",
   "metadata": {},
   "outputs": [
    {
     "name": "stdout",
     "output_type": "stream",
     "text": [
      "   EmployeeID     Name   Department\n",
      "0           1    Alice           HR\n",
      "1           2      Bob  Engineering\n",
      "2           3  Charlie    Marketing\n",
      "3           4    David      Finance\n",
      "   EmployeeID  Salary\n",
      "0           1   60000\n",
      "1           2   75000\n",
      "2           3   80000\n",
      "3           4   70000\n",
      "   EmployeeID     Name   Department  Salary\n",
      "0           1    Alice           HR   60000\n",
      "1           2      Bob  Engineering   75000\n",
      "2           3  Charlie    Marketing   80000\n",
      "3           4    David      Finance   70000\n"
     ]
    }
   ],
   "source": [
    "import pandas as pd\n",
    "employee_data = {\n",
    "    'EmployeeID' : [1,2,3,4],\n",
    "    'Name' : ['Alice', 'Bob', 'Charlie', 'David'],\n",
    "    'Department' : ['HR','Engineering','Marketing','Finance']\n",
    "}\n",
    "\n",
    "employee_df = pd.DataFrame(employee_data)\n",
    "\n",
    "print(employee_df)\n",
    "\n",
    "salary_data = {\n",
    "    'EmployeeID' : [1,2,3,4],\n",
    "    'Salary' : [60_000, 75_000, 80_000, 70_000]\n",
    "}\n",
    "\n",
    "salary_df = pd.DataFrame(salary_data)\n",
    "\n",
    "print(salary_df)\n",
    "\n",
    "merged_emp_data = pd.merge(employee_df, salary_df, on='EmployeeID', how='left')\n",
    "\n",
    "print(merged_emp_data)"
   ]
  }
 ],
 "metadata": {
  "kernelspec": {
   "display_name": "Python 3 (ipykernel)",
   "language": "python",
   "name": "python3"
  },
  "language_info": {
   "codemirror_mode": {
    "name": "ipython",
    "version": 3
   },
   "file_extension": ".py",
   "mimetype": "text/x-python",
   "name": "python",
   "nbconvert_exporter": "python",
   "pygments_lexer": "ipython3",
   "version": "3.11.7"
  }
 },
 "nbformat": 4,
 "nbformat_minor": 5
}
