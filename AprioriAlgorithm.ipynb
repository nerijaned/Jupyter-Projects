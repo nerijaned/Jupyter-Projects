{
 "cells": [
  {
   "cell_type": "code",
   "execution_count": 3,
   "id": "c7762f16-4e4e-42cc-9ef8-872e57d579a0",
   "metadata": {},
   "outputs": [
    {
     "name": "stdout",
     "output_type": "stream",
     "text": [
      "    support               itemsets\n",
      "0       0.8                (bread)\n",
      "1       0.6               (butter)\n",
      "2       0.6                  (jam)\n",
      "3       0.4                 (milk)\n",
      "4       0.4        (bread, butter)\n",
      "5       0.4           (jam, bread)\n",
      "6       0.4          (milk, bread)\n",
      "7       0.4          (jam, butter)\n",
      "8       0.2         (milk, butter)\n",
      "9       0.2   (jam, bread, butter)\n",
      "10      0.2  (milk, bread, butter)\n"
     ]
    }
   ],
   "source": [
    "#%pip install mlxtend\n",
    "import mlxtend as mlxtend\n",
    "from mlxtend.frequent_patterns import apriori\n",
    "from mlxtend.preprocessing import TransactionEncoder\n",
    "\n",
    "import pandas as pd\n",
    "\n",
    "\n",
    "#create a dummy dataset (each row is a shopping basket)\n",
    "dataset = [['bread','butter','milk'],\n",
    "          ['bread','jam'],\n",
    "          ['butter','jam'],\n",
    "          ['bread','milk'],\n",
    "          ['bread','butter','jam']]\n",
    "\n",
    "#convert the dataset into a one-hot encoding format\n",
    "te = TransactionEncoder()\n",
    "te_ary = te.fit(dataset).transform(dataset)\n",
    "\n",
    "df = pd.DataFrame(te_ary, columns=te.columns_)\n",
    "\n",
    "#apply the apriori algorithm\n",
    "frequent_itemsets = apriori(df, min_support=0.2, use_colnames=True)\n",
    "\n",
    "print(frequent_itemsets)"
   ]
  }
 ],
 "metadata": {
  "kernelspec": {
   "display_name": "Python 3 (ipykernel)",
   "language": "python",
   "name": "python3"
  },
  "language_info": {
   "codemirror_mode": {
    "name": "ipython",
    "version": 3
   },
   "file_extension": ".py",
   "mimetype": "text/x-python",
   "name": "python",
   "nbconvert_exporter": "python",
   "pygments_lexer": "ipython3",
   "version": "3.11.7"
  }
 },
 "nbformat": 4,
 "nbformat_minor": 5
}
